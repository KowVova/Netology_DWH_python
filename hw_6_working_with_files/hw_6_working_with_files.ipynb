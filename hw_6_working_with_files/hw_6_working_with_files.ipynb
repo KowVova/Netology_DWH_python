{
 "cells": [
  {
   "cell_type": "markdown",
   "id": "926fa9bd",
   "metadata": {},
   "source": [
    "### Задание 1\n",
    "Переведите содержимое файла purchase_log.txt в словарь purchases вида:\n",
    "{‘1840e0b9d4’: ‘Продукты’, …}"
   ]
  },
  {
   "cell_type": "code",
   "execution_count": 1,
   "id": "2a3e4b5f",
   "metadata": {},
   "outputs": [],
   "source": [
    "import json\n",
    "\n",
    "f = open('purchase_log.txt', 'r',encoding='utf-8')\n",
    "content = f.readlines()"
   ]
  },
  {
   "cell_type": "code",
   "execution_count": 2,
   "id": "b14328b1",
   "metadata": {},
   "outputs": [],
   "source": [
    "purchases = {}\n",
    "for line in content:\n",
    "    temp_dict = json.loads(line)\n",
    "    purchases[temp_dict['user_id']] = temp_dict['category']"
   ]
  },
  {
   "cell_type": "code",
   "execution_count": 3,
   "id": "542daab4",
   "metadata": {},
   "outputs": [
    {
     "name": "stdout",
     "output_type": "stream",
     "text": [
      "user_id : category\n",
      "1840e0b9d4 : Продукты\n",
      "4e4f90fcfb : Электроника\n",
      "afea8d72fc : Электроника\n",
      "373a6055fe : Бытовая техника\n",
      "9b2ab046f3 : Электроника\n",
      "9f39d307c3 : Электроника\n"
     ]
    }
   ],
   "source": [
    "for i, el in enumerate(purchases):\n",
    "    print(f'{el} : {purchases[el]}')\n",
    "    if i > 5:\n",
    "        break"
   ]
  },
  {
   "cell_type": "markdown",
   "id": "d2c8949f",
   "metadata": {},
   "source": [
    "### Задание 2\n",
    "Для каждого user_id в файле visit_log.csv определите третий столбец с категорией покупки (если покупка была, сам файл visit_log.csv изменять не надо). Запишите в файл funnel.csv визиты из файла visit_log.csv, в которых были покупки с указанием категории."
   ]
  },
  {
   "cell_type": "code",
   "execution_count": 4,
   "id": "a0a8872a",
   "metadata": {},
   "outputs": [],
   "source": [
    "with open('visit_log.csv', 'r', encoding='utf-8') as f_log:\n",
    "    with open('funnel.csv', 'w') as f2write:\n",
    "        for i, line in enumerate(f_log):\n",
    "            id = line.strip().split(',')[0]\n",
    "            if id in purchases:\n",
    "                line = f'{line.strip()},{purchases[id]}\\n'\n",
    "            f2write.write(line)"
   ]
  },
  {
   "cell_type": "code",
   "execution_count": 6,
   "id": "58c2f1eb",
   "metadata": {},
   "outputs": [
    {
     "name": "stdout",
     "output_type": "stream",
     "text": [
      "user_id,source,category\n",
      "6450655ae8,other\n",
      "b4ea53e670,other\n",
      "0e37347152,other\n",
      "96064ae9e0,other\n",
      "e1bd168161,context\n",
      "71bcf169b4,other\n",
      "e0aee73c5d,other\n",
      "1f8845e157,context\n",
      "78d22c5c78,other\n",
      "dd85040770,other\n",
      "2301051b25,other\n",
      "86835b81ac,context\n",
      "90d9a575a2,other\n",
      "1b75c4f23f,other\n",
      "d94b908660,None\n",
      "f697206af5,other\n",
      "8a9a2de36e,other\n",
      "dd3d43c266,context\n",
      "f6401d302f,context\n",
      "b18d58560b,email\n",
      "ed79586589,other\n",
      "1840e0b9d4,other,Продукты\n",
      "b4afdc5ccc,other\n",
      "470248aabf,other\n",
      "948d9be43c,other\n",
      "03592d16ac,other\n"
     ]
    }
   ],
   "source": [
    "with open('funnel.csv', 'r') as f:\n",
    "    for i, line in enumerate(f):\n",
    "        print(line, end='')\n",
    "        if i > 25:\n",
    "            break"
   ]
  }
 ],
 "metadata": {
  "kernelspec": {
   "display_name": "Python 3 (ipykernel)",
   "language": "python",
   "name": "python3"
  },
  "language_info": {
   "codemirror_mode": {
    "name": "ipython",
    "version": 3
   },
   "file_extension": ".py",
   "mimetype": "text/x-python",
   "name": "python",
   "nbconvert_exporter": "python",
   "pygments_lexer": "ipython3",
   "version": "3.9.7"
  }
 },
 "nbformat": 4,
 "nbformat_minor": 5
}
