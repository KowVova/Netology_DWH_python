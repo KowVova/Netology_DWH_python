{
 "cells": [
  {
   "cell_type": "markdown",
   "metadata": {
    "id": "Wo6387g_o37V"
   },
   "source": [
    "### Задание 1\n",
    "Выводит середину слова из латинских букв"
   ]
  },
  {
   "cell_type": "code",
   "execution_count": null,
   "metadata": {
    "colab": {
     "base_uri": "https://localhost:8080/"
    },
    "id": "V3OzNlYhpAG_",
    "outputId": "9b7f464e-c795-4199-fb69-9a7a4f7aca68"
   },
   "outputs": [
    {
     "name": "stdout",
     "output_type": "stream",
     "text": [
      "Введите слово: testing\n",
      "Середина слова testing - t\n"
     ]
    }
   ],
   "source": [
    "word = input('Введите слово: ')    \n",
    "index = int(len(word)/2)\n",
    "if len(word)%2 == 0:\n",
    "    result = word[index-1:index+1]\n",
    "else:\n",
    "    result = word[index]\n",
    "print(f'Середина слова {word} - {result}')"
   ]
  },
  {
   "cell_type": "markdown",
   "metadata": {
    "id": "5VwZHc-4pP8-"
   },
   "source": [
    "### Задание 2\n",
    "Последовательно запрашивает у пользователя числа (по одному за раз)\n",
    "и после первого нуля выводит сумму всех ранее введенных чисел"
   ]
  },
  {
   "cell_type": "code",
   "execution_count": null,
   "metadata": {
    "colab": {
     "base_uri": "https://localhost:8080/"
    },
    "id": "viMzckLOpZoU",
    "outputId": "e806c3a8-40de-400f-af87-b4572a0cf6d9"
   },
   "outputs": [
    {
     "name": "stdout",
     "output_type": "stream",
     "text": [
      "Введите число: 1\n",
      "Введите число: 4\n",
      "Введите число: 6\n",
      "Введите число: 0\n",
      "Сумма введенных чисел: 11\n"
     ]
    }
   ],
   "source": [
    "list_numbers = []\n",
    "while True:\n",
    "    x = int(input('Введите число: '))\n",
    "    if x == 0:\n",
    "        break\n",
    "    list_numbers.append(x)\n",
    "print(f'Сумма введенных чисел: {sum(list_numbers)}')    "
   ]
  },
  {
   "cell_type": "markdown",
   "metadata": {
    "id": "5Q_Ad8JopjX7"
   },
   "source": [
    "### Задание 3\n",
    "Мы делаем MVP dating-сервиса, и у нас есть список парней и девушек.\n",
    "Выдвигаем гипотезу: лучшие рекомендации мы получим, если просто отсортируем\n",
    "имена по алфавиту и познакомим людей с одинаковыми индексами после сортировки! Но мы не будем никого знакомить, если кто-то может остаться без пары:"
   ]
  },
  {
   "cell_type": "code",
   "execution_count": null,
   "metadata": {
    "colab": {
     "base_uri": "https://localhost:8080/"
    },
    "id": "-mwEOV36pwUq",
    "outputId": "ab9882ae-50ed-4a1e-c0de-16620b19b063"
   },
   "outputs": [
    {
     "name": "stdout",
     "output_type": "stream",
     "text": [
      "Введите имена парней через \",\": Peter, Alex, John, Arthur, Richard\n",
      "Введите имена девушек через \",\": Kate, Liza, Kira, Emma, Trisha\n",
      "Идеальные пары:\n",
      "Alex и Emma\n",
      "Arthur и Kate\n",
      "John и Kira\n",
      "Peter и Liza\n",
      "Richard и Trisha\n"
     ]
    }
   ],
   "source": [
    "boys = input('Введите имена парней через \",\": ').replace(' ','').split(',')\n",
    "girls = input('Введите имена девушек через \",\": ').replace(' ','').split(',')\n",
    "if len(boys) == len(girls):\n",
    "    boys.sort()\n",
    "    girls.sort()\n",
    "    couples = zip(boys,girls)\n",
    "    print('Идеальные пары:')\n",
    "    for couple in couples:\n",
    "        print(f'{couple[0]} и {couple[1]}')\n",
    "elif len(boys) > len(girls):\n",
    "    print('Никого не знакомим - парней больше')        \n",
    "else:\n",
    "    print('Никого не знакомим - девушек больше')      "
   ]
  },
  {
   "cell_type": "markdown",
   "metadata": {
    "id": "Sy6-j32op9Fq"
   },
   "source": [
    "### Задание 4\n",
    "У нас есть список, содержащий информацию о среднедневной температуре в Фаренгейтах за произвольный период по странам (структура данных в примере) Необходимо написать код, который рассчитает среднюю температуру за период в Цельсиях(!) для каждой страны."
   ]
  },
  {
   "cell_type": "code",
   "execution_count": null,
   "metadata": {
    "colab": {
     "base_uri": "https://localhost:8080/"
    },
    "id": "i-Zub__oqH6J",
    "outputId": "7a6b9261-3b1c-44de-c590-e59c36c5f8ca"
   },
   "outputs": [
    {
     "name": "stdout",
     "output_type": "stream",
     "text": [
      "Средняя температура в странах:\n",
      "Thailand - 23.9 C\n",
      "Germany - 13.8 C\n",
      "Russia - 3.7 C\n",
      "Poland - 12.0 C\n"
     ]
    }
   ],
   "source": [
    "countries_temperature = [\n",
    "    ['Thailand', [75.2, 77, 78.8, 73.4, 68, 75.2, 77]],\n",
    "    ['Germany', [57.2, 55.4, 59, 59, 53.6]],\n",
    "    ['Russia', [35.6, 37.4, 39.2, 41, 42.8, 39.2, 35.6]],\n",
    "    ['Poland', [50, 50, 53.6, 57.2, 55.4, 55.4]]\n",
    "]\n",
    "print('Средняя температура в странах:')\n",
    "for country, list_temperature_far in countries_temperature:\n",
    "    list_temperature_cel = [(temp - 32)/1.8 for temp in list_temperature_far ]\n",
    "    avr_temp = sum(list_temperature_cel)/len(list_temperature_cel)\n",
    "    avr_temp = round(avr_temp,1)\n",
    "    print(f'{country} - {avr_temp} C')"
   ]
  },
  {
   "cell_type": "markdown",
   "metadata": {
    "id": "1WVMV5E5qQO6"
   },
   "source": [
    "### Задание 5 \n",
    "Дан поток логов по количеству просмотренных страниц для каждого пользователя.\n",
    "Вам необходимо написать алгоритм, который считает среднее значение просмотров на пользователя.\n",
    "Т. е. надо посчитать отношение суммы всех просмотров к количеству уникальных пользователей."
   ]
  },
  {
   "cell_type": "code",
   "execution_count": null,
   "metadata": {
    "colab": {
     "base_uri": "https://localhost:8080/"
    },
    "id": "_DpxJQj1qViA",
    "outputId": "d9d83d37-b6de-4970-b073-6564ab88d463"
   },
   "outputs": [
    {
     "name": "stdout",
     "output_type": "stream",
     "text": [
      "Среднее количество просмотров на уникального пользователя: 23.25\n"
     ]
    }
   ],
   "source": [
    "stream = [\n",
    "    '2018-01-01,user1,3',\n",
    "    '2018-01-07,user1,4',\n",
    "    '2018-03-29,user1,1',\n",
    "    '2018-04-04,user1,13',\n",
    "    '2018-01-05,user2,7',\n",
    "    '2018-06-14,user3,4',\n",
    "    '2018-07-02,user3,10',\n",
    "    '2018-03-21,user4,19',\n",
    "    '2018-03-22,user4,4',\n",
    "    '2018-04-22,user4,8',\n",
    "    '2018-05-03,user4,9',\n",
    "    '2018-05-11,user4,11',\n",
    "]\n",
    "# stream = [\n",
    "#     '2018-01-01,user100,150',\n",
    "#     '2018-01-07,user99,205',\n",
    "#     '2018-03-29,user1001,81'\n",
    "# ]\n",
    "users = set()\n",
    "views = []\n",
    "for log in stream:\n",
    "    log = log.split(',')\n",
    "    users.add(log[1])\n",
    "    views.append(int(log[2]))\n",
    "result = round(sum(views)/len(users),2)\n",
    "print(f'Среднее количество просмотров на уникального пользователя: {result}')"
   ]
  },
  {
   "cell_type": "markdown",
   "metadata": {
    "id": "ABfKorbBqbw5"
   },
   "source": [
    "### Задание 6\n",
    "Необходимо у пользователя запрашивать набор чисел разделенных пробелом.\n",
    "В результате должны выводиться числа, которые повторяются в вводе более одного раза."
   ]
  },
  {
   "cell_type": "code",
   "execution_count": null,
   "metadata": {
    "colab": {
     "base_uri": "https://localhost:8080/"
    },
    "id": "87H5Re5IqiMP",
    "outputId": "e0d78819-2b3a-4925-d145-cfbe4bf07591"
   },
   "outputs": [
    {
     "name": "stdout",
     "output_type": "stream",
     "text": [
      "Введите числа через \" \" :1 1 1 1 1 2 2 2\n",
      "Повторяющиеся числа: 1 2\n"
     ]
    }
   ],
   "source": [
    "list_numbers = input('Введите числа через \" \" :').split(' ')\n",
    "result = set()\n",
    "for num in list_numbers:\n",
    "    if list_numbers.count(num) > 1:\n",
    "        result.add(num)\n",
    "result = ' '.join(result)\n",
    "print(f'Повторяющиеся числа: {result}')"
   ]
  }
 ],
 "metadata": {
  "colab": {
   "name": "hw_типы_данных_циклы.ipynb",
   "provenance": []
  },
  "kernelspec": {
   "display_name": "Python 3 (ipykernel)",
   "language": "python",
   "name": "python3"
  },
  "language_info": {
   "codemirror_mode": {
    "name": "ipython",
    "version": 3
   },
   "file_extension": ".py",
   "mimetype": "text/x-python",
   "name": "python",
   "nbconvert_exporter": "python",
   "pygments_lexer": "ipython3",
   "version": "3.9.7"
  }
 },
 "nbformat": 4,
 "nbformat_minor": 1
}
