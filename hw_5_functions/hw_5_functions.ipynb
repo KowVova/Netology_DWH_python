{
 "cells": [
  {
   "cell_type": "markdown",
   "id": "08038690",
   "metadata": {},
   "source": [
    "## Домашнее задание к лекции \"Функции\""
   ]
  },
  {
   "cell_type": "markdown",
   "id": "caf62658",
   "metadata": {},
   "source": [
    "Нужно помочь секретарю автоматизировать работу. Для этого нужно написать программу, которая будет на основе хранимых данных исполнять пользовательские команды.\n",
    "Исходные данные имеют следующую структуру:"
   ]
  },
  {
   "cell_type": "markdown",
   "id": "c59716dd",
   "metadata": {},
   "source": [
    "1. перечень всех документов"
   ]
  },
  {
   "cell_type": "code",
   "execution_count": 1,
   "id": "5cb39a33",
   "metadata": {},
   "outputs": [],
   "source": [
    "documents = [\n",
    "    {'type': 'passport', 'number': '2207 876234', 'name': 'Василий Гупкин'},\n",
    "    {'type': 'invoice', 'number': '11-2', 'name': 'Геннадий Покемонов'},\n",
    "    {'type': 'insurance', 'number': '10006', 'name': 'Аристарх Павлов'}\n",
    "]"
   ]
  },
  {
   "cell_type": "markdown",
   "id": "9ec720a0",
   "metadata": {},
   "source": [
    "2.перечень полок, на которых хранятся документы\n",
    "(если документ есть в documents, то он обязательно должен быть и в directories)"
   ]
  },
  {
   "cell_type": "code",
   "execution_count": 2,
   "id": "79d0cf21",
   "metadata": {},
   "outputs": [],
   "source": [
    "directories = {\n",
    "    '1': ['2207 876234', '11-2'],\n",
    "    '2': ['10006'],\n",
    "    '3': []\n",
    "}"
   ]
  },
  {
   "cell_type": "markdown",
   "id": "0571985e",
   "metadata": {},
   "source": [
    "### [Задание 1](#job) <a id='map'></a>\n",
    "###### [Пункт 1. Пользователь по команде “p” может узнать владельца документа по его номеру](#point_1)\n",
    "###### [Пункт 2. Пользователь по команде “s” может по номеру документа узнать на какой полке он хранится](#point_2)\n",
    "###### [Пункт 3. Пользователь по команде “l” может увидеть полную информацию по всем документам](#point_3)\n",
    "###### [Пункт 4. Пользователь по команде “as” может добавить новую полку](#point_4)\n",
    "###### [Пункт 5. Пользователь по команде “ds” может удалить существующую полку из данных (только если она пустая)](#point_5)\n",
    "### [Задание 2 (необязательное)](#job_2)\n",
    "###### [Пункт 1. Пользователь по команде “ad” может добавить новый документ в данные](#point_2_1)\n",
    "###### [Пункт 2. Пользователь по команде “d” может удалить документ из данных](#point_2_2)\n",
    "###### [Пункт 3. Пользователь по команде “m” может переместить документ с полки на полку](#point_2_3)"
   ]
  },
  {
   "cell_type": "markdown",
   "id": "284a5272",
   "metadata": {},
   "source": [
    "### Задание 1 <a id='job'></a>"
   ]
  },
  {
   "cell_type": "code",
   "execution_count": 3,
   "id": "4dcd0e28",
   "metadata": {},
   "outputs": [],
   "source": [
    "def input_data(label):\n",
    "    return input(label).lower().replace(' ', '')\n",
    "\n",
    "def print_help():\n",
    "    print('h, help, ? - показать справку по командам \\n'\n",
    "          'q - выход \\n'\n",
    "          'p - вывести владельца документа \\n'\n",
    "          's - вывести полку хранения документа \\n'\n",
    "          'l - вывести информацию по всем документам \\n'\n",
    "          'as - добавить полку \\n'\n",
    "          'ds - удалить полку \\n'\n",
    "          'ad - добавить документ \\n'\n",
    "          'd - удалить документ \\n'\n",
    "          'm - переместить документ \\n'\n",
    "    )    \n",
    "\n",
    "def get_info(doc_number):\n",
    "    for el in documents:\n",
    "        if doc_number == el['number']:\n",
    "            return el\n"
   ]
  },
  {
   "cell_type": "markdown",
   "id": "55c1d09a",
   "metadata": {},
   "source": [
    "<a id='point_1'>Пункт 1. Пользователь по команде “p” может узнать владельца документа по его номеру</a><br>\n",
    "[к оглавлению](#map)"
   ]
  },
  {
   "cell_type": "code",
   "execution_count": 5,
   "id": "6ebd4dd2",
   "metadata": {},
   "outputs": [],
   "source": [
    "def get_owner():\n",
    "    doc_number = input_data('Введите номер документа: ')\n",
    "    doc = get_info(doc_number)\n",
    "    if doc is None:\n",
    "        return 'Документ не найден в базе'\n",
    "    return f' Владелец документа: {doc[\"name\"]}'"
   ]
  },
  {
   "cell_type": "markdown",
   "id": "d01379c9",
   "metadata": {},
   "source": [
    "<a id='point_2'>Пункт 2. Пользователь по команде “s” может по номеру документа узнать на какой полке он хранится</a><br>\n",
    "[к оглавлению](#map)"
   ]
  },
  {
   "cell_type": "code",
   "execution_count": 6,
   "id": "533028ff",
   "metadata": {},
   "outputs": [],
   "source": [
    "def get_directory():\n",
    "    doc_number = input_data('Введите номер документа: ')\n",
    "    for location, docs in directories.items():\n",
    "        if doc_number in docs:\n",
    "            return f'Документ хранится на полке: {location}'\n",
    "    return 'Документ не найден в базе'"
   ]
  },
  {
   "cell_type": "markdown",
   "id": "f32d2beb",
   "metadata": {},
   "source": [
    "<a id='point_3'>Пункт 3. Пользователь по команде “l” может увидеть полную информацию по всем документам</a><br>[к оглавлению](#map)"
   ]
  },
  {
   "cell_type": "code",
   "execution_count": 4,
   "id": "f6bc2ea2",
   "metadata": {},
   "outputs": [],
   "source": [
    "def show_all():\n",
    "    for location, docs in directories.items():\n",
    "        for doc in docs:\n",
    "            type, number, name = get_info(doc).values()\n",
    "            print(f'№:{number}, тип:{type}, владелец: {name}, '\n",
    "                  f'полка хранения:{location}')"
   ]
  },
  {
   "cell_type": "markdown",
   "id": "79f54bbc",
   "metadata": {},
   "source": [
    "<a id='point_4'>Пункт 4. Пользователь по команде “as” может добавить новую полку</a><br>[к оглавлению](#map)"
   ]
  },
  {
   "cell_type": "code",
   "execution_count": 7,
   "id": "51a0917c",
   "metadata": {},
   "outputs": [],
   "source": [
    "def add_directory():\n",
    "    number_location = input_data('Введите номер полки: ')\n",
    "    if number_location in directories:\n",
    "        print('Такая полка уже существует. ', end='')\n",
    "    else:\n",
    "        directories[number_location] = []\n",
    "        print('Полка добавлена. ', end='')\n",
    "    print(f'Текущий перечень полок: {\",\".join(directories.keys())}.')"
   ]
  },
  {
   "cell_type": "markdown",
   "id": "146a94a6",
   "metadata": {},
   "source": [
    "<a id='point_5'>Пункт 5. Пользователь по команде “ds” может удалить существующую полку из данных (только если она пустая)</a><br>[к оглавлению](#map)"
   ]
  },
  {
   "cell_type": "code",
   "execution_count": 8,
   "id": "37bd785b",
   "metadata": {},
   "outputs": [],
   "source": [
    "def del_directory():\n",
    "    number_location = input_data('Введите номер полки: ')\n",
    "    docs = directories.get(number_location)\n",
    "    if docs:\n",
    "        print(\n",
    "            'На полке есть документа, удалите их перед удалением полки. ',\n",
    "            end=''\n",
    "        )\n",
    "    elif docs is None:\n",
    "        print('Такой полки не существует. ', end='')\n",
    "    else:\n",
    "        del directories[number_location]\n",
    "        print('Полка удалена. ', end='')\n",
    "    print(f'Текущий перечень полок: {\",\".join(directories.keys())}.')"
   ]
  },
  {
   "cell_type": "markdown",
   "id": "3ad8946f",
   "metadata": {},
   "source": [
    "### Задание 2 (необязательное) <a id='job_2'></a>\n",
    "<a id='point_2_1'>Пункт 1. Пользователь по команде “ad” может добавить новый документ в данные</a><br>\n",
    "[к оглавлению](#map)"
   ]
  },
  {
   "cell_type": "code",
   "execution_count": 9,
   "id": "8661fce9",
   "metadata": {},
   "outputs": [],
   "source": [
    "def add_document():\n",
    "    doc_number = input_data('Введите номер документа: ')\n",
    "    if get_info(doc_number):\n",
    "        print('Такой документ уже есть')\n",
    "        return\n",
    "    doc_type = input_data('Введите тип документа: ')\n",
    "    doc_name = input_data('Введите владельца документа: ')\n",
    "    location = input_data('Введите полку для хранения: ')\n",
    "    if location not in directories:\n",
    "        print('Такой полки не существует. Добавьте полку командой as.')\n",
    "        return\n",
    "    new_doc = {'type': doc_type, 'number': doc_number, 'name': doc_name}\n",
    "    documents.append(new_doc)\n",
    "    directories[location].append(doc_number)\n",
    "    print('Документ добавлен. Текущий список документов:')"
   ]
  },
  {
   "cell_type": "markdown",
   "id": "f73ed438",
   "metadata": {},
   "source": [
    "<a id='point_2_2'>Пункт 2. Пользователь по команде “d” может удалить документ из данных</a><br>\n",
    "[к оглавлению](#map)"
   ]
  },
  {
   "cell_type": "code",
   "execution_count": 16,
   "id": "232f895e",
   "metadata": {},
   "outputs": [],
   "source": [
    "def del_document():\n",
    "    doc_number = input_data('Введите номер документа: ')\n",
    "    doc = get_info(doc_number)\n",
    "    if doc:\n",
    "        documents.remove(doc)\n",
    "        for el in directories.values():\n",
    "            if doc_number in el:\n",
    "                el.remove(doc_number)\n",
    "        print('Документ удален. Текущий список документов:')\n",
    "        return\n",
    "    print('Документ не найден в базе. Текущий список документов:')"
   ]
  },
  {
   "cell_type": "markdown",
   "id": "5dfa320e",
   "metadata": {},
   "source": [
    "<a id='point_2_3'>Пункт 3. Пользователь по команде “m” может переместить документ с полки на полку</a><br>\n",
    "[к оглавлению](#map)"
   ]
  },
  {
   "cell_type": "code",
   "execution_count": 11,
   "id": "0fc022e5",
   "metadata": {},
   "outputs": [],
   "source": [
    "def move_document():\n",
    "    doc_number = input_data('Введите номер документа: ')\n",
    "    doc = get_info(doc_number)\n",
    "    if not doc:a\n",
    "        print('Документ не найден в базе. Текущий список документов:')\n",
    "        return\n",
    "    location = input_data('Введите полку для хранения: ')\n",
    "    if location not in directories:\n",
    "        print('Такой полки не существует.', end='')\n",
    "        print(f'Текущий перечень полок: {\",\".join(directories.keys())}.')\n",
    "        return\n",
    "    for el in directories.values():\n",
    "        if doc_number in el:\n",
    "            el.remove(doc_number)\n",
    "    directories[location].append(doc_number)\n",
    "    print('Документ перемещен. Текущий список документов:')"
   ]
  },
  {
   "cell_type": "code",
   "execution_count": 15,
   "id": "ca2264d3",
   "metadata": {},
   "outputs": [],
   "source": [
    "def main():\n",
    "    while True:\n",
    "        user_command = input_data('Введите команду: ')\n",
    "        if user_command == 'q':\n",
    "            return\n",
    "        if user_command in ['h', 'help', '?']:\n",
    "            print_help()\n",
    "        if user_command == 'p':\n",
    "            print(get_owner())\n",
    "        if user_command == 's':\n",
    "            print(get_directory())\n",
    "        if user_command == 'l':\n",
    "            show_all()\n",
    "        if user_command == 'as':\n",
    "            add_directory()\n",
    "        if user_command == 'ds':\n",
    "            del_directory()\n",
    "        if user_command == 'ad':\n",
    "            add_document()\n",
    "            show_all()\n",
    "        if user_command == 'd':\n",
    "            del_document()\n",
    "            show_all()\n",
    "        if user_command == 'm':\n",
    "            move_document()\n",
    "            show_all()"
   ]
  },
  {
   "cell_type": "code",
   "execution_count": 13,
   "id": "4e266e44",
   "metadata": {},
   "outputs": [
    {
     "name": "stdout",
     "output_type": "stream",
     "text": [
      "Введите команду: help\n",
      "h, help, ? - показать справку по командам \n",
      "q - выход \n",
      "p - вывести владельца документа \n",
      "s - вывести полку хранения документа \n",
      "l - вывести информацию по всем документам \n",
      "as - добавить полку \n",
      "ds - удалить полку \n",
      "ad - добавить документ \n",
      "d - удалить документ \n",
      "m - переместить документ \n",
      "\n",
      "Введите команду: p\n",
      "Введите номер документа: 10006\n",
      " Владелец документа: Аристарх Павлов\n",
      "Введите команду: p\n",
      "Введите номер документа: 12345\n",
      "Документ не найден в базе\n",
      "Введите команду: s\n",
      "Введите номер документа: 10006\n",
      "Документ хранится на полке: 2\n",
      "Введите команду: l\n",
      "№:2207 876234, тип:passport, владелец: Василий Гупкин, полка хранения:1\n",
      "№:11-2, тип:invoice, владелец: Геннадий Покемонов, полка хранения:1\n",
      "№:10006, тип:insurance, владелец: Аристарх Павлов, полка хранения:2\n",
      "Введите команду: as\n",
      "Введите номер полки: 10\n",
      "Полка добавлена. Текущий перечень полок: 1,2,3,10.\n",
      "Введите команду: as\n",
      "Введите номер полки: 1\n",
      "Такая полка уже существует. Текущий перечень полок: 1,2,3,10.\n",
      "Введите команду: ds\n",
      "Введите номер полки: 10\n",
      "Полка удалена. Текущий перечень полок: 1,2,3.\n",
      "Введите команду: ds\n",
      "Введите номер полки: 1\n",
      "На полке есть документа, удалите их перед удалением полки. Текущий перечень полок: 1,2,3.\n",
      "Введите команду: ds\n",
      "Введите номер полки: 4\n",
      "Такой полки не существует. Текущий перечень полок: 1,2,3.\n",
      "Введите команду: ad\n",
      "Введите номер документа: 42\n",
      "Введите тип документа: multipassport\n",
      "Введите владельца документа: R2D2\n",
      "Введите полку для хранения: 3\n",
      "Документ добавлен. Текущий список документов:\n",
      "№:2207 876234, тип:passport, владелец: Василий Гупкин, полка хранения:1\n",
      "№:11-2, тип:invoice, владелец: Геннадий Покемонов, полка хранения:1\n",
      "№:10006, тип:insurance, владелец: Аристарх Павлов, полка хранения:2\n",
      "№:42, тип:multipassport, владелец: r2d2, полка хранения:3\n",
      "Введите команду: ad\n",
      "Введите номер документа: 42\n",
      "Такой документ уже есть\n",
      "№:2207 876234, тип:passport, владелец: Василий Гупкин, полка хранения:1\n",
      "№:11-2, тип:invoice, владелец: Геннадий Покемонов, полка хранения:1\n",
      "№:10006, тип:insurance, владелец: Аристарх Павлов, полка хранения:2\n",
      "№:42, тип:multipassport, владелец: r2d2, полка хранения:3\n",
      "Введите команду: ad\n",
      "Введите номер документа: new_42\n",
      "Введите тип документа: multipassport\n",
      "Введите владельца документа: R2D2\n",
      "Введите полку для хранения: 4\n",
      "Такой полки не существует. Добавьте полку командой as.\n",
      "№:2207 876234, тип:passport, владелец: Василий Гупкин, полка хранения:1\n",
      "№:11-2, тип:invoice, владелец: Геннадий Покемонов, полка хранения:1\n",
      "№:10006, тип:insurance, владелец: Аристарх Павлов, полка хранения:2\n",
      "№:42, тип:multipassport, владелец: r2d2, полка хранения:3\n",
      "Введите команду: d\n",
      "Введите номер документа: 42\n",
      "Документ удален. Текущий список документов:\n",
      "№:2207 876234, тип:passport, владелец: Василий Гупкин, полка хранения:1\n",
      "№:11-2, тип:invoice, владелец: Геннадий Покемонов, полка хранения:1\n",
      "№:10006, тип:insurance, владелец: Аристарх Павлов, полка хранения:2\n",
      "Введите команду: d\n",
      "Введите номер документа: 123456\n",
      "Документ не найден в базе. Текущий список документов:\n",
      "№:2207 876234, тип:passport, владелец: Василий Гупкин, полка хранения:1\n",
      "№:11-2, тип:invoice, владелец: Геннадий Покемонов, полка хранения:1\n",
      "№:10006, тип:insurance, владелец: Аристарх Павлов, полка хранения:2\n",
      "Введите команду: m\n",
      "Введите номер документа: 11-2\n",
      "Введите полку для хранения: 3\n",
      "Документ перемещен. Текущий список документов:\n",
      "№:2207 876234, тип:passport, владелец: Василий Гупкин, полка хранения:1\n",
      "№:10006, тип:insurance, владелец: Аристарх Павлов, полка хранения:2\n",
      "№:11-2, тип:invoice, владелец: Геннадий Покемонов, полка хранения:3\n",
      "Введите команду: m\n",
      "Введите номер документа: 11-2\n",
      "Введите полку для хранения: 10\n",
      "Такой полки не существует.Текущий перечень полок: 1,2,3.\n",
      "№:2207 876234, тип:passport, владелец: Василий Гупкин, полка хранения:1\n",
      "№:10006, тип:insurance, владелец: Аристарх Павлов, полка хранения:2\n",
      "№:11-2, тип:invoice, владелец: Геннадий Покемонов, полка хранения:3\n",
      "Введите команду: m\n",
      "Введите номер документа: 42\n",
      "Документ не найден в базе. Текущий список документов:\n",
      "№:2207 876234, тип:passport, владелец: Василий Гупкин, полка хранения:1\n",
      "№:10006, тип:insurance, владелец: Аристарх Павлов, полка хранения:2\n",
      "№:11-2, тип:invoice, владелец: Геннадий Покемонов, полка хранения:3\n",
      "Введите команду: q\n"
     ]
    }
   ],
   "source": [
    "main()"
   ]
  }
 ],
 "metadata": {
  "kernelspec": {
   "display_name": "Python 3 (ipykernel)",
   "language": "python",
   "name": "python3"
  },
  "language_info": {
   "codemirror_mode": {
    "name": "ipython",
    "version": 3
   },
   "file_extension": ".py",
   "mimetype": "text/x-python",
   "name": "python",
   "nbconvert_exporter": "python",
   "pygments_lexer": "ipython3",
   "version": "3.9.7"
  }
 },
 "nbformat": 4,
 "nbformat_minor": 5
}
