{
  "nbformat": 4,
  "nbformat_minor": 0,
  "metadata": {
    "colab": {
      "name": "hw_основы_python.ipynb",
      "provenance": []
    },
    "kernelspec": {
      "name": "python3",
      "display_name": "Python 3"
    },
    "language_info": {
      "name": "python"
    }
  },
  "cells": [
    {
      "cell_type": "markdown",
      "source": [
        ""
      ],
      "metadata": {
        "id": "fw6345BhfolI"
      }
    },
    {
      "cell_type": "markdown",
      "source": [
        "### Задание 1\n",
        "проверяет какая из этих строк длиннее"
      ],
      "metadata": {
        "id": "JCvOJJjCfvth"
      }
    },
    {
      "cell_type": "code",
      "source": [
        "phrase_1 = input('Введите первую фразу: ')\n",
        "phrase_2 = input('Введите вторую фразу: ')\n",
        "if len(phrase_1) > len(phrase_2):\n",
        "    print('Фраза 1 длиннее фразы 2')\n",
        "elif len(phrase_1) == len(phrase_2):\n",
        "    print('Фразы равной длины')\n",
        "else:\n",
        "    print('Фраза 2 длиннее фразы 1')"
      ],
      "metadata": {
        "colab": {
          "base_uri": "https://localhost:8080/"
        },
        "id": "r5rmF6qqgAEI",
        "outputId": "cdf7fbee-2ab4-41bd-bb32-5609e675e4f9"
      },
      "execution_count": null,
      "outputs": [
        {
          "output_type": "stream",
          "name": "stdout",
          "text": [
            "Введите первую фразу: Первый раз тут\n",
            "Введите вторую фразу: вроде получается\\\n",
            "Фраза 2 длиннее фразы 1\n"
          ]
        }
      ]
    },
    {
      "cell_type": "markdown",
      "source": [
        "### Задание 2\n",
        "Проверяет является ли данный год високосным или обычным"
      ],
      "metadata": {
        "id": "-JFXS56egRK9"
      }
    },
    {
      "cell_type": "code",
      "source": [
        "year = int(input('Введите год: '))\n",
        "if year % 400 == 0:\n",
        "    print('Високосный год')\n",
        "elif year % 100 == 0:   \n",
        "    print('Обычный год') \n",
        "elif year % 4 == 0:\n",
        "    print('Високосный год')\n",
        "else:\n",
        "    print('Обычный год')"
      ],
      "metadata": {
        "colab": {
          "base_uri": "https://localhost:8080/"
        },
        "id": "bBeBwHKFgb4o",
        "outputId": "a4b2c2cb-d41f-49bc-9ffb-fc92be5fd646"
      },
      "execution_count": null,
      "outputs": [
        {
          "output_type": "stream",
          "name": "stdout",
          "text": [
            "Введите год: 2023\n",
            "Обычный год\n"
          ]
        }
      ]
    },
    {
      "cell_type": "markdown",
      "source": [
        "### Задание 3\n",
        "По дню и месяцу выводит соответствующий знак зодиака"
      ],
      "metadata": {
        "id": "ame0oqYShP3z"
      }
    },
    {
      "cell_type": "code",
      "source": [
        "NAME_MONTH = {\n",
        "    'январь':'01', 'февраль':'02','март':'03', 'апрель':'04','май':'05',\n",
        "     'июнь':'06', 'июль':'07','август':'08', 'сентябрь':'09',\n",
        "     'октябрь':'10','ноябрь':'11','декабрь':'12'\n",
        "}\n",
        "SIGNS_ZODIAK = {\n",
        "    'Овен':['03-21','04-20'],\n",
        "    'Телец':['04-21','05-20'],\n",
        "    'Близнецы':['05-21','06-20'],\n",
        "    'Рак':['06-21','07-22'],\n",
        "    'Лев':['07-23','08-22'],\n",
        "    'Дева':['08-23','09-23'],\n",
        "    'Весы':['09-24','10-23'],\n",
        "    'Скорпион':['10-24','11-21'],\n",
        "    'Стрелец':['11-22','12-21'],\n",
        "    'Козерог':['12-22','12-31'],\n",
        "    'Козерог ':['01-01','01-19'],\n",
        "    'Водолей':['01-20','02-18'],\n",
        "    'Рыбы':['02-19','03-20']\n",
        "}\n",
        "day = input('Введите день: ')\n",
        "if len(day) == 1:\n",
        "    day = '0'+day\n",
        "month = input('Введите месяц: ').lower()\n",
        "for name in NAME_MONTH:\n",
        "    if month == name:\n",
        "        date = f'{NAME_MONTH[name]}-{day}'\n",
        "        for sign, period in SIGNS_ZODIAK.items():\n",
        "            if period[0] <= date <= period[1]:\n",
        "                print(f'Дата: {date} - Знак зодиака: {sign}')"
      ],
      "metadata": {
        "colab": {
          "base_uri": "https://localhost:8080/"
        },
        "id": "sHBG1BHMhU7i",
        "outputId": "71f3deb7-cafb-46d0-9eeb-d2dd65478a01"
      },
      "execution_count": null,
      "outputs": [
        {
          "output_type": "stream",
          "name": "stdout",
          "text": [
            "Введите день: 7\n",
            "Введите месяц: июнь\n",
            "Дата: 06-07 - Знак зодиака: Близнецы\n"
          ]
        }
      ]
    },
    {
      "cell_type": "markdown",
      "source": [
        "### Задание 4\n",
        "подбор упаковок по размерам товара"
      ],
      "metadata": {
        "id": "_GLL1jPDhhrS"
      }
    },
    {
      "cell_type": "code",
      "source": [
        "width = int(input('Введите ширину: '))\n",
        "length = int(input('Введите длину: '))\n",
        "heigth = int(input('Введите высоту: '))\n",
        "if width <= 15 and length <= 15 and heigth <= 15:\n",
        "    print('Коробка №1')\n",
        "elif (15 < width < 50) or (15 < length < 50) or (15 < heigth < 50):\n",
        "    print('Коробка №2')\n",
        "elif  length >= 200:\n",
        "    print('Упаковка для лыж')\n",
        "else:\n",
        "    print('Стандартная коробка №3')    "
      ],
      "metadata": {
        "colab": {
          "base_uri": "https://localhost:8080/"
        },
        "id": "iRIEegmShxJh",
        "outputId": "c94ad0fe-002f-4f8b-c5a8-965fad62bca1"
      },
      "execution_count": null,
      "outputs": [
        {
          "output_type": "stream",
          "name": "stdout",
          "text": [
            "Введите ширину: 15\n",
            "Введите длину: 14\n",
            "Введите высоту: 63\n",
            "Стандартная коробка №3\n"
          ]
        }
      ]
    },
    {
      "cell_type": "markdown",
      "source": [
        "### Задание 5\n",
        "Определяет является ли введеный билет \"Счастливым\""
      ],
      "metadata": {
        "id": "hqGYgXeth2xp"
      }
    },
    {
      "cell_type": "code",
      "source": [
        "number = input('Введите номер билета: ')\n",
        "part_1 = 0\n",
        "part_2 = 0\n",
        "for i in range(len(number)//2):\n",
        "    part_1 += int(number[i])\n",
        "    part_2 += int(number[len(number)-(i+1)])\n",
        "if part_1 == part_2:\n",
        "    print('Счастливый билет')    \n",
        "else:\n",
        "    print('Неасчастливый билет')    "
      ],
      "metadata": {
        "colab": {
          "base_uri": "https://localhost:8080/"
        },
        "id": "7R0tEobhiOWA",
        "outputId": "d9e2c8f5-5caa-45dd-c619-40ffa9a6e532"
      },
      "execution_count": null,
      "outputs": [
        {
          "output_type": "stream",
          "name": "stdout",
          "text": [
            "Введите номер билета: 102003\n",
            "Счастливый билет\n"
          ]
        }
      ]
    },
    {
      "cell_type": "markdown",
      "source": [
        "### Задание 6\n",
        "Вычисляет площадь фигур (Круг, треугольник, прямоугольник)"
      ],
      "metadata": {
        "id": "O_ImHEz9iVEY"
      }
    },
    {
      "cell_type": "code",
      "source": [
        "from cmath import pi, sqrt\n",
        "type_f = input('Введите тип фигуры: ').lower()\n",
        "if type_f == 'круг':\n",
        "    radius = int(input('Введите радиус круга: '))\n",
        "    result = round(pi*radius*radius, 2)\n",
        "elif type_f == 'треугольник':\n",
        "    a = int(input('Введите длину стороны A: '))\n",
        "    b = int(input('Введите длину стороны B: '))\n",
        "    c = int(input('Введите длину стороны C: '))\n",
        "    p = (a+b+c)/2\n",
        "    result = sqrt(p*(p-a)*(p-b)*(p-c))\n",
        "    result = round(result.real,2)\n",
        "elif type_f == 'прямоугольник':\n",
        "    a = int(input('Введите длину стороны A: '))\n",
        "    b = int(input('Введите длину стороны B: '))\n",
        "    result = round(a*b,2)\n",
        "else:\n",
        "    result = 'неизвестно'\n",
        "print(f'Площадь {type_f}а: {result}')  "
      ],
      "metadata": {
        "colab": {
          "base_uri": "https://localhost:8080/"
        },
        "id": "OpQir3_WinJw",
        "outputId": "beae4418-8776-4a1d-c5a6-cfc280553a73"
      },
      "execution_count": null,
      "outputs": [
        {
          "output_type": "stream",
          "name": "stdout",
          "text": [
            "Введите тип фигуры: Треугольник\n",
            "Введите длину стороны A: 2\n",
            "Введите длину стороны B: 2\n",
            "Введите длину стороны C: 3\n",
            "Площадь треугольника: 1.98\n"
          ]
        }
      ]
    }
  ]
}